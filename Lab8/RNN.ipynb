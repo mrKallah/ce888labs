{
 "cells": [
  {
   "cell_type": "code",
   "execution_count": 1,
   "metadata": {},
   "outputs": [
    {
     "name": "stderr",
     "output_type": "stream",
     "text": [
      "Using TensorFlow backend.\n"
     ]
    },
    {
     "data": {
      "text/plain": [
       "'2.2.4'"
      ]
     },
     "execution_count": 1,
     "metadata": {},
     "output_type": "execute_result"
    }
   ],
   "source": [
    "import keras\n",
    "keras.__version__"
   ]
  },
  {
   "cell_type": "code",
   "execution_count": 2,
   "metadata": {},
   "outputs": [
    {
     "name": "stdout",
     "output_type": "stream",
     "text": [
      "Found 9 unique tokens.\n"
     ]
    }
   ],
   "source": [
    "from keras.preprocessing.text import Tokenizer\n",
    "samples = ['The cat sat on the mat.', 'The dog ate my homework.']\n",
    "\n",
    "# We create a tokenizer, configured to only take into account the top-1000 most common words\n",
    "tokenizer = Tokenizer(num_words=1000)\n",
    "\n",
    "# This builds the word index\n",
    "tokenizer.fit_on_texts(samples)\n",
    "\n",
    "# This turns strings into lists of integer indices.\n",
    "sequences = tokenizer.texts_to_sequences(samples)\n",
    "\n",
    "# You could also directly get the one-hot binary representations.\n",
    "# Note that other vectorization modes than one-hot encoding are supported!\n",
    "one_hot_results = tokenizer.texts_to_matrix(samples, mode='binary')\n",
    "\n",
    "# This is how you can recover the word index that was computed\n",
    "word_index = tokenizer.word_index\n",
    "print('Found %s unique tokens.' % len(word_index))"
   ]
  },
  {
   "cell_type": "code",
   "execution_count": 3,
   "metadata": {},
   "outputs": [
    {
     "data": {
      "text/plain": [
       "array([[0., 1., 1., ..., 0., 0., 0.],\n",
       "       [0., 1., 0., ..., 0., 0., 0.]])"
      ]
     },
     "execution_count": 3,
     "metadata": {},
     "output_type": "execute_result"
    }
   ],
   "source": [
    "one_hot_results"
   ]
  },
  {
   "cell_type": "markdown",
   "metadata": {},
   "source": [
    "Using word-embeddings "
   ]
  },
  {
   "cell_type": "code",
   "execution_count": 4,
   "metadata": {},
   "outputs": [
    {
     "name": "stdout",
     "output_type": "stream",
     "text": [
      "Loading data...\n",
      "Downloading data from https://s3.amazonaws.com/text-datasets/imdb.npz\n",
      "17465344/17464789 [==============================] - 4s 0us/step\n",
      "25000 train sequences\n",
      "25000 test sequences\n",
      "Pad sequences (samples x time)\n",
      "input_train shape: (25000, 500)\n",
      "input_test shape: (25000, 500)\n"
     ]
    }
   ],
   "source": [
    "from keras.datasets import imdb\n",
    "from keras.preprocessing import sequence\n",
    "\n",
    "max_features = 10000\n",
    "maxlen = 500\n",
    "batch_size = 32\n",
    "print('Loading data...')\n",
    "(input_train, y_train), (input_test, y_test) = imdb.load_data(num_words=max_features)\n",
    "print(len(input_train), 'train sequences')\n",
    "print(len(input_test), 'test sequences')\n",
    "print('Pad sequences (samples x time)')\n",
    "input_train = sequence.pad_sequences(input_train, maxlen=maxlen)\n",
    "input_test = sequence.pad_sequences(input_test, maxlen=maxlen)\n",
    "print('input_train shape:', input_train.shape)\n",
    "print('input_test shape:', input_test.shape)"
   ]
  },
  {
   "cell_type": "markdown",
   "metadata": {},
   "source": [
    "### Training the model with Embedding and SimpleRNN layers"
   ]
  },
  {
   "cell_type": "code",
   "execution_count": 6,
   "metadata": {},
   "outputs": [
    {
     "name": "stdout",
     "output_type": "stream",
     "text": [
      "WARNING:tensorflow:From /usr/local/lib/python3.6/dist-packages/tensorflow/python/framework/op_def_library.py:263: colocate_with (from tensorflow.python.framework.ops) is deprecated and will be removed in a future version.\n",
      "Instructions for updating:\n",
      "Colocations handled automatically by placer.\n",
      "_________________________________________________________________\n",
      "Layer (type)                 Output Shape              Param #   \n",
      "=================================================================\n",
      "embedding_1 (Embedding)      (None, None, 32)          320000    \n",
      "_________________________________________________________________\n",
      "simple_rnn_1 (SimpleRNN)     (None, 32)                2080      \n",
      "_________________________________________________________________\n",
      "dense_1 (Dense)              (None, 1)                 33        \n",
      "=================================================================\n",
      "Total params: 322,113\n",
      "Trainable params: 322,113\n",
      "Non-trainable params: 0\n",
      "_________________________________________________________________\n",
      "WARNING:tensorflow:From /usr/local/lib/python3.6/dist-packages/tensorflow/python/ops/math_ops.py:3066: to_int32 (from tensorflow.python.ops.math_ops) is deprecated and will be removed in a future version.\n",
      "Instructions for updating:\n",
      "Use tf.cast instead.\n",
      "Train on 20000 samples, validate on 5000 samples\n",
      "Epoch 1/10\n",
      "20000/20000 [==============================] - 19s 937us/step - loss: 0.6469 - acc: 0.6102 - val_loss: 0.4927 - val_acc: 0.7772\n",
      "Epoch 2/10\n",
      "20000/20000 [==============================] - 17s 873us/step - loss: 0.4273 - acc: 0.8149 - val_loss: 0.4000 - val_acc: 0.8252\n",
      "Epoch 3/10\n",
      "20000/20000 [==============================] - 17s 857us/step - loss: 0.3120 - acc: 0.8754 - val_loss: 0.3507 - val_acc: 0.8608\n",
      "Epoch 4/10\n",
      "20000/20000 [==============================] - 18s 882us/step - loss: 0.2420 - acc: 0.9081 - val_loss: 0.3549 - val_acc: 0.8538\n",
      "Epoch 5/10\n",
      "20000/20000 [==============================] - 18s 906us/step - loss: 0.1785 - acc: 0.9343 - val_loss: 0.4602 - val_acc: 0.8494\n",
      "Epoch 6/10\n",
      "20000/20000 [==============================] - 19s 926us/step - loss: 0.1291 - acc: 0.9544 - val_loss: 0.3819 - val_acc: 0.8630\n",
      "Epoch 7/10\n",
      "20000/20000 [==============================] - 18s 908us/step - loss: 0.0905 - acc: 0.9679 - val_loss: 0.4301 - val_acc: 0.8426\n",
      "Epoch 8/10\n",
      "20000/20000 [==============================] - 19s 927us/step - loss: 0.0560 - acc: 0.9827 - val_loss: 0.5773 - val_acc: 0.8044\n",
      "Epoch 9/10\n",
      "20000/20000 [==============================] - 18s 905us/step - loss: 0.0362 - acc: 0.9893 - val_loss: 0.5304 - val_acc: 0.8400\n",
      "Epoch 10/10\n",
      "20000/20000 [==============================] - 18s 905us/step - loss: 0.0288 - acc: 0.9909 - val_loss: 0.6407 - val_acc: 0.8132\n"
     ]
    }
   ],
   "source": [
    "from keras.layers import Dense\n",
    "from keras.layers import Embedding, SimpleRNN\n",
    "from keras.models import Sequential\n",
    "\n",
    "model = Sequential()\n",
    "model.add(Embedding(max_features, 32))\n",
    "model.add(SimpleRNN(32))\n",
    "model.add(Dense(1, activation='sigmoid'))\n",
    "model.summary()\n",
    "model.compile(optimizer='rmsprop', loss='binary_crossentropy', metrics=['acc'])\n",
    "history = model.fit(input_train, y_train, \n",
    "                    epochs=10,\n",
    "                    batch_size=128,\n",
    "                    validation_split=0.2)\n"
   ]
  },
  {
   "cell_type": "code",
   "execution_count": 8,
   "metadata": {},
   "outputs": [
    {
     "data": {
      "image/png": "[encoded data removed]",
      "text/plain": [
       "<Figure size 432x288 with 1 Axes>"
      ]
     },
     "metadata": {
      "needs_background": "light"
     },
     "output_type": "display_data"
    },
    {
     "data": {
      "image/png": "[encoded data removed]",
      "text/plain": [
       "<Figure size 432x288 with 1 Axes>"
      ]
     },
     "metadata": {
      "needs_background": "light"
     },
     "output_type": "display_data"
    }
   ],
   "source": [
    "import matplotlib.pyplot as plt\n",
    "\n",
    "acc = history.history['acc']\n",
    "val_acc = history.history['val_acc']\n",
    "loss = history.history['loss']\n",
    "val_loss = history.history['val_loss']\n",
    "\n",
    "epochs = range(1, len(acc) + 1)\n",
    "\n",
    "plt.plot(epochs, acc, 'bo', label='Training acc')\n",
    "plt.plot(epochs, val_acc, 'b', label='Validation acc')\n",
    "plt.title('Training and validation accuracy')\n",
    "plt.legend()\n",
    "\n",
    "plt.figure()\n",
    "\n",
    "plt.plot(epochs, loss, 'bo', label='Training loss')\n",
    "plt.plot(epochs, val_loss, 'b', label='Validation loss')\n",
    "plt.title('Training and validation loss')\n",
    "plt.legend()\n",
    "\n",
    "plt.show()"
   ]
  },
  {
   "cell_type": "markdown",
   "metadata": {},
   "source": [
    "### Training the model with Embedding and SimpleRNN layers"
   ]
  },
  {
   "cell_type": "code",
   "execution_count": 25,
   "metadata": {},
   "outputs": [
    {
     "name": "stdout",
     "output_type": "stream",
     "text": [
      "Train on 20000 samples, validate on 5000 samples\n",
      "Epoch 1/10\n",
      "20000/20000 [==============================] - 61s 3ms/step - loss: 0.5062 - acc: 0.7572 - val_loss: 0.4275 - val_acc: 0.8012\n",
      "Epoch 2/10\n",
      "20000/20000 [==============================] - 59s 3ms/step - loss: 0.3156 - acc: 0.8740 - val_loss: 0.3149 - val_acc: 0.8846\n",
      "Epoch 3/10\n",
      "20000/20000 [==============================] - 84s 4ms/step - loss: 0.2549 - acc: 0.9033 - val_loss: 0.3211 - val_acc: 0.8634\n",
      "Epoch 4/10\n",
      "20000/20000 [==============================] - 81s 4ms/step - loss: 0.2136 - acc: 0.9188 - val_loss: 0.2924 - val_acc: 0.8756\n",
      "Epoch 5/10\n",
      "20000/20000 [==============================] - 72s 4ms/step - loss: 0.1954 - acc: 0.9263 - val_loss: 0.3324 - val_acc: 0.8900\n",
      "Epoch 6/10\n",
      "20000/20000 [==============================] - 70s 4ms/step - loss: 0.1715 - acc: 0.9390 - val_loss: 0.3328 - val_acc: 0.8832\n",
      "Epoch 7/10\n",
      "20000/20000 [==============================] - 62s 3ms/step - loss: 0.1545 - acc: 0.9435 - val_loss: 0.3299 - val_acc: 0.8814\n",
      "Epoch 8/10\n",
      "20000/20000 [==============================] - 59s 3ms/step - loss: 0.1462 - acc: 0.9498 - val_loss: 0.3605 - val_acc: 0.8814\n",
      "Epoch 9/10\n",
      "20000/20000 [==============================] - 59s 3ms/step - loss: 0.1314 - acc: 0.9536 - val_loss: 0.3418 - val_acc: 0.8706\n",
      "Epoch 10/10\n",
      "20000/20000 [==============================] - 59s 3ms/step - loss: 0.1214 - acc: 0.9574 - val_loss: 0.6442 - val_acc: 0.8286\n"
     ]
    }
   ],
   "source": [
    "from keras.layers import LSTM\n",
    "\n",
    "from numpy.random import seed\n",
    "seed(1)\n",
    "\n",
    "model = Sequential()\n",
    "# model.add(Embedding(max_features, 16))\n",
    "# model.add(Embedding(max_features, 24))\n",
    "# model.add(Embedding(max_features, 64))\n",
    "model.add(Embedding(max_features, 32))\n",
    "# model.add(LSTM(16))\n",
    "# model.add(LSTM(32))\n",
    "model.add(LSTM(64))\n",
    "# model.add(LSTM(128))\n",
    "# model.add(Dense(1, activation='relu'))\n",
    "model.add(Dense(1, activation='sigmoid'))\n",
    "model.compile(optimizer='rmsprop',\n",
    "loss='binary_crossentropy',\n",
    "metrics=['acc'])\n",
    "history = model.fit(input_train, y_train,\n",
    "                    epochs=10,\n",
    "                    batch_size=128,\n",
    "                    validation_split=0.2)\n",
    "\n",
    "# 1st epoch val acc = 0.8624"
   ]
  },
  {
   "cell_type": "code",
   "execution_count": 26,
   "metadata": {},
   "outputs": [
    {
     "data": {
      "image/png": "[encoded data removed]",
      "text/plain": [
       "<Figure size 432x288 with 1 Axes>"
      ]
     },
     "metadata": {
      "needs_background": "light"
     },
     "output_type": "display_data"
    },
    {
     "data": {
      "image/png": "[encoded data removed]",
      "text/plain": [
       "<Figure size 432x288 with 1 Axes>"
      ]
     },
     "metadata": {
      "needs_background": "light"
     },
     "output_type": "display_data"
    }
   ],
   "source": [
    "# the best validation results are on epoch=5 and thus I'd suggest that the epochs would be lowered to this \n",
    "# but to compare to the 10 epoch of the original training, the 10 has been saved\n",
    "# on epoch=5 the val acc was 89% and the val after 10 epoch originally was 88.06%\n",
    "# this means that the new parameters scored 1% higher, and that there are clear signs of overfitting on epoch>5\n",
    "\n",
    "# orig val acc after 10 epoch = 0.8806 (not seedded random)\n",
    "\n",
    "import matplotlib.pyplot as plt\n",
    "\n",
    "acc = history.history['acc']\n",
    "val_acc = history.history['val_acc']\n",
    "loss = history.history['loss']\n",
    "val_loss = history.history['val_loss']\n",
    "\n",
    "epochs = range(1, len(acc) + 1)\n",
    "\n",
    "plt.plot(epochs, acc, 'bo', label='Training acc')\n",
    "plt.plot(epochs, val_acc, 'b', label='Validation acc')\n",
    "plt.title('Training and validation accuracy')\n",
    "plt.legend()\n",
    "\n",
    "plt.figure()\n",
    "\n",
    "plt.plot(epochs, loss, 'bo', label='Training loss')\n",
    "plt.plot(epochs, val_loss, 'b', label='Validation loss')\n",
    "plt.title('Training and validation loss')\n",
    "plt.legend()\n",
    "\n",
    "plt.show()"
   ]
  },
  {
   "cell_type": "code",
   "execution_count": null,
   "metadata": {},
   "outputs": [],
   "source": []
  }
 ],
 "metadata": {
  "kernelspec": {
   "display_name": "Python 3",
   "language": "python",
   "name": "python3"
  },
  "language_info": {
   "codemirror_mode": {
    "name": "ipython",
    "version": 3
   },
   "file_extension": ".py",
   "mimetype": "text/x-python",
   "name": "python",
   "nbconvert_exporter": "python",
   "pygments_lexer": "ipython3",
   "version": "3.6.7"
  }
 },
 "nbformat": 4,
 "nbformat_minor": 2
}
