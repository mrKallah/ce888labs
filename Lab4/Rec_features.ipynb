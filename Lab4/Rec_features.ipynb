{
 "cells": [
  {
   "cell_type": "markdown",
   "metadata": {
    "slideshow": {
     "slide_type": "slide"
    }
   },
   "source": [
    "# Hybrid Models for Recommendation Systems"
   ]
  },
  {
   "cell_type": "markdown",
   "metadata": {
    "slideshow": {
     "slide_type": "slide"
    }
   },
   "source": [
    "Load Pandas, we are going to need it for manipulating data"
   ]
  },
  {
   "cell_type": "code",
   "execution_count": 1,
   "metadata": {
    "slideshow": {
     "slide_type": "fragment"
    }
   },
   "outputs": [
    {
     "name": "stdout",
     "output_type": "stream",
     "text": [
      "done\n"
     ]
    }
   ],
   "source": [
    "import pandas as pd\n",
    "import numpy as np\n",
    "from IPython.display import Image\n",
    "np.set_printoptions(precision = 3)\n",
    "print(\"done\")"
   ]
  },
  {
   "cell_type": "markdown",
   "metadata": {
    "slideshow": {
     "slide_type": "slide"
    }
   },
   "source": [
    "Now load the data"
   ]
  },
  {
   "cell_type": "code",
   "execution_count": 2,
   "metadata": {
    "slideshow": {
     "slide_type": "fragment"
    }
   },
   "outputs": [
    {
     "name": "stdout",
     "output_type": "stream",
     "text": [
      "\\begin{tabular}{lrrrrrrrr}\n",
      "\\toprule\n",
      "{} &  Sex &   Over60 &  key &  user\\_id &  Critic0 &   Critic1 &  item\\_id &  rating \\\\\n",
      "\\midrule\n",
      "2 &  1.0 &      0.0 &    0 &        0 &      0.6 &       0.4 &        2 &     NaN \\\\\n",
      "2 &  0.0 &      1.0 &    0 &        1 &      0.6 &       0.4 &        2 &     NaN \\\\\n",
      "1 &  0.0 &      0.0 &    0 &        2 &      0.9 &       0.3 &        1 &     NaN \\\\\n",
      "0 &  1.0 &      0.0 &    0 &        3 &      0.3 &       0.9 &        0 &     NaN \\\\\n",
      "1 &  1.0 &      0.0 &    0 &        3 &      0.9 &       0.3 &        1 &     NaN \\\\\n",
      "0 &  0.0 &      1.0 &    0 &        4 &      0.3 &       0.9 &        0 &     NaN \\\\\n",
      "3 &  0.0 &      0.0 &    0 &        5 &      0.2 &       0.1 &        3 &     NaN \\\\\n",
      "4 &  0.0 &      0.0 &    0 &        5 &      0.7 &       0.8 &        4 &     NaN \\\\\n",
      "2 &  0.0 &      0.0 &    0 &        6 &      0.6 &       0.4 &        2 &     NaN \\\\\n",
      "2 &  0.0 &      1.0 &    0 &        8 &      0.6 &       0.4 &        2 &     NaN \\\\\n",
      "1 &  1.0 &      0.0 &    0 &        9 &      0.9 &       0.3 &        1 &     NaN \\\\\n",
      "\\bottomrule\n",
      "\\end{tabular}\n",
      "\n"
     ]
    }
   ],
   "source": [
    "user_ratings_df = pd.read_csv(\"user_ratings.csv\")\n",
    "user_features_df = pd.read_csv(\"user_features.csv\")\n",
    "item_features_df = pd.read_csv(\"item_features.csv\")\n",
    "\n",
    "\n",
    "user_features_df[\"key\"] = 0\n",
    "user_features_df[\"user_id\"] = range(0,user_features_df.shape[0])\n",
    "item_features_df[\"key\"] = 0\n",
    "item_features_df[\"item_id\"] = range(0,item_features_df.shape[0])\n",
    "\n",
    "merged_df = pd.merge(user_features_df, item_features_df,left_index=True,on=\"key\")\n",
    "merged_df[[\"item_id\", \"user_id\"]]\n",
    "\n",
    "\n",
    "\n",
    "\n",
    "merged_df[\"rating\"] = map(lambda ids: user_ratings_df.values[ids[1]][ids[2]], \n",
    "                          merged_df[[\"user_id\", \"item_id\"]].itertuples())\n",
    "\n",
    "train = merged_df.dropna()\n",
    "\n",
    "test = merged_df[merged_df.isnull().any(axis=1)]\n",
    "\n",
    "print(test.to_latex())\n",
    "\n"
   ]
  },
  {
   "cell_type": "code",
   "execution_count": 8,
   "metadata": {
    "slideshow": {
     "slide_type": "slide"
    }
   },
   "outputs": [
    {
     "name": "stdout",
     "output_type": "stream",
     "text": [
      "\\begin{tabular}{lrrrr}\n",
      "\\toprule\n",
      "{} &  Critic0 &   Critic1 &  key &  item\\_id \\\\\n",
      "\\midrule\n",
      "0 &      0.3 &       0.9 &    0 &        0 \\\\\n",
      "1 &      0.9 &       0.3 &    0 &        1 \\\\\n",
      "2 &      0.6 &       0.4 &    0 &        2 \\\\\n",
      "3 &      0.2 &       0.1 &    0 &        3 \\\\\n",
      "4 &      0.7 &       0.8 &    0 &        4 \\\\\n",
      "\\bottomrule\n",
      "\\end{tabular}\n",
      "\n"
     ]
    }
   ],
   "source": [
    "n_latent_features = 2\n",
    "\n",
    "data = train\n",
    "\n",
    "user_ratings = user_ratings_df.values\n",
    "latent_user_preferences = np.random.random((user_ratings.shape[0], n_latent_features))\n",
    "latent_item_features = np.random.random((user_ratings.shape[1],n_latent_features))\n",
    "\n",
    "user_features = user_features_df.values\n",
    "item_features = item_features_df.values\n",
    "\n",
    "print(item_features_df.to_latex())\n",
    "\n",
    "\n",
    "user_features = np.concatenate([np.ones(shape = (user_features.shape[0],1)), user_features], axis = 1)\n",
    "item_features = np.concatenate([np.ones(shape = (item_features.shape[0],1)), item_features], axis = 1)\n",
    "\n",
    "\n",
    "\n",
    "user_features_weights = np.random.random((user_ratings.shape[0], user_features.shape[1] ))\n",
    "item_features_weights = np.random.random((user_ratings.shape[1],item_features.shape[1] ))\n",
    "\n",
    "\n",
    "\n",
    "# print user_features"
   ]
  },
  {
   "cell_type": "code",
   "execution_count": 9,
   "metadata": {
    "slideshow": {
     "slide_type": "slide"
    }
   },
   "outputs": [],
   "source": [
    "\n",
    "def predict_rating(user_id,item_id):\n",
    "    \"\"\" Predict a rating given a user_id and an item_id.\n",
    "    \"\"\"\n",
    "    user_preference = latent_user_preferences[user_id]\n",
    "    item_preference = latent_item_features[item_id]\n",
    "    \n",
    "    user_score = user_features_weights[user_id].dot(user_features[user_id])\n",
    "    item_score = item_features_weights[item_id].dot(item_features[item_id])\n",
    "    #print user_preference.dot(item_preference), user_score, item_score\n",
    "    return user_preference.dot(item_preference) + user_score + item_score\n",
    "\n",
    "def train(user_id, item_id, rating,alpha = 0.001, \n",
    "                                   latent_feature_weight_decay = 0.1, \n",
    "                                   user_weight_decay = 0.01,\n",
    "                                   item_weight_decay = 0.0001):\n",
    "    \n",
    "    #print item_id\n",
    "    prediction_rating = predict_rating(user_id, item_id)\n",
    "    err =  ( prediction_rating - rating );\n",
    "    #print err\n",
    "    user_pref_values = latent_user_preferences[user_id][:]\n",
    "    latent_user_preferences[user_id] -= alpha * err *  ( latent_item_features[item_id] + latent_feature_weight_decay*latent_user_preferences[user_id])\n",
    "    latent_item_features[item_id] -= alpha * err * ( user_pref_values + latent_feature_weight_decay*latent_item_features[item_id])\n",
    "    \n",
    "    user_features_weights[user_id] -=alpha * err *(  user_features[user_id] + user_weight_decay* user_features_weights[user_id])\n",
    "    item_features_weights[item_id] -=alpha * err * ( item_features_weights[item_id] + item_weight_decay* item_features_weights[item_id])\n",
    "    \n",
    "    \n",
    "    return err\n",
    "    \n",
    "\n",
    "\n",
    "def sgd(iterations = 30000):\n",
    "    \"\"\" Iterate over all users and all items and train for \n",
    "        a certain number of iterations\n",
    "    \"\"\"\n",
    "    for iteration in range(0,iterations):\n",
    "        error = []\n",
    "        for user_id in range(0,latent_user_preferences.shape[0]):\n",
    "            for item_id in range(0,latent_item_features.shape[0]):\n",
    "                rating = user_ratings[user_id][item_id]\n",
    "                if(not np.isnan(rating)):\n",
    "                    err = train(user_id,item_id,rating)\n",
    "                    error.append(err)\n",
    "    mse = (np.array(error) ** 2).mean()          \n",
    "    print(mse)\n",
    "    \n"
   ]
  },
  {
   "cell_type": "code",
   "execution_count": 10,
   "metadata": {
    "slideshow": {
     "slide_type": "fragment"
    }
   },
   "outputs": [
    {
     "name": "stdout",
     "output_type": "stream",
     "text": [
      "0.372786947702\n",
      "0.367134397707\n",
      "0.364901833098\n",
      "0.363665428508\n",
      "0.362863800259\n",
      "0.362297064833\n",
      "0.361874890661\n",
      "0.361549959342\n",
      "0.361294885501\n",
      "0.361092658657\n"
     ]
    }
   ],
   "source": [
    "for _ in range(0,10): \n",
    "    sgd()"
   ]
  },
  {
   "cell_type": "code",
   "execution_count": 11,
   "metadata": {
    "slideshow": {
     "slide_type": "slide"
    }
   },
   "outputs": [
    {
     "name": "stdout",
     "output_type": "stream",
     "text": [
      "[[ 0.905  1.301  0.841  1.003  0.885]\n",
      " [ 0.497  0.851  1.189  0.728  0.394]\n",
      " [ 0.507  0.513  0.008  0.64   1.613]\n",
      " [ 1.147  0.364  0.771  0.18   1.231]\n",
      " [ 0.925  0.601  1.402  0.062  2.252]\n",
      " [ 0.67   0.387  0.379  0.665  0.316]\n",
      " [ 0.648  0.889  0.472  0.144 -0.296]\n",
      " [ 0.891  0.469  0.109  0.623  0.024]\n",
      " [ 0.834  0.524  0.429  0.544  0.304]\n",
      " [ 0.347  0.226  0.506  0.996 -0.005]]\n",
      "[[  1.006e+00   3.594e+00   1.145e+00   4.315e+00   3.862e-01]\n",
      " [  2.875e-02   1.802e-02   3.050e-03   2.849e-02   4.540e-03]\n",
      " [  4.042e-01   1.207e+00   1.151e+00   6.334e-01   7.679e-01]\n",
      " [  1.390e+00   2.135e-02   1.746e+00   5.916e-01   7.351e-01]\n",
      " [  7.726e-01   9.199e-01   4.736e-01   1.052e+00   4.029e-01]]\n"
     ]
    }
   ],
   "source": [
    "predictions = np.zeros(shape = (latent_user_preferences.shape[0], latent_item_features.shape[0]) )\n",
    "#print latent_user_preferences\n",
    "print(user_features_weights)\n",
    "print(item_features_weights)\n",
    "for user_id in range(0,latent_user_preferences.shape[0]):\n",
    "            for item_id in range(0,latent_item_features.shape[0]):\n",
    "                predictions[user_id,item_id] =  predict_rating(user_id,item_id)\n",
    "\n",
    "  "
   ]
  },
  {
   "cell_type": "code",
   "execution_count": 17,
   "metadata": {
    "slideshow": {
     "slide_type": "slide"
    }
   },
   "outputs": [
    {
     "data": {
      "text/html": [
       "<div>\n",
       "<style scoped>\n",
       "    .dataframe tbody tr th:only-of-type {\n",
       "        vertical-align: middle;\n",
       "    }\n",
       "\n",
       "    .dataframe tbody tr th {\n",
       "        vertical-align: top;\n",
       "    }\n",
       "\n",
       "    .dataframe thead th {\n",
       "        text-align: right;\n",
       "    }\n",
       "</style>\n",
       "<table border=\"1\" class=\"dataframe\">\n",
       "  <thead>\n",
       "    <tr style=\"text-align: right;\">\n",
       "      <th></th>\n",
       "      <th>The Call of Cthulhu</th>\n",
       "      <th>Frankenstein</th>\n",
       "      <th>Dracula</th>\n",
       "      <th>Neuromancer</th>\n",
       "      <th>Space Odyssey</th>\n",
       "    </tr>\n",
       "  </thead>\n",
       "  <tbody>\n",
       "    <tr>\n",
       "      <th>0</th>\n",
       "      <td>(8.000|8.005)</td>\n",
       "      <td>(2.000|1.543)</td>\n",
       "      <td>(nan|5.923)</td>\n",
       "      <td>(5.000|5.379)</td>\n",
       "      <td>(4.000|4.070)</td>\n",
       "    </tr>\n",
       "    <tr>\n",
       "      <th>1</th>\n",
       "      <td>(3.000|2.992)</td>\n",
       "      <td>(2.000|2.757)</td>\n",
       "      <td>(nan|4.641)</td>\n",
       "      <td>(7.000|6.373)</td>\n",
       "      <td>(7.000|6.885)</td>\n",
       "    </tr>\n",
       "    <tr>\n",
       "      <th>2</th>\n",
       "      <td>(9.000|8.947)</td>\n",
       "      <td>(nan|3.097)</td>\n",
       "      <td>(7.000|7.564)</td>\n",
       "      <td>(8.000|6.959)</td>\n",
       "      <td>(5.000|5.522)</td>\n",
       "    </tr>\n",
       "    <tr>\n",
       "      <th>3</th>\n",
       "      <td>(nan|17.454)</td>\n",
       "      <td>(nan|4.588)</td>\n",
       "      <td>(7.000|7.001)</td>\n",
       "      <td>(8.000|7.996)</td>\n",
       "      <td>(9.000|9.001)</td>\n",
       "    </tr>\n",
       "    <tr>\n",
       "      <th>4</th>\n",
       "      <td>(nan|106.509)</td>\n",
       "      <td>(1.000|1.017)</td>\n",
       "      <td>(8.000|7.992)</td>\n",
       "      <td>(3.000|2.999)</td>\n",
       "      <td>(7.000|6.990)</td>\n",
       "    </tr>\n",
       "    <tr>\n",
       "      <th>5</th>\n",
       "      <td>(2.000|2.000)</td>\n",
       "      <td>(3.000|3.000)</td>\n",
       "      <td>(5.000|5.001)</td>\n",
       "      <td>(nan|6.661)</td>\n",
       "      <td>(nan|6.968)</td>\n",
       "    </tr>\n",
       "    <tr>\n",
       "      <th>6</th>\n",
       "      <td>(4.000|4.017)</td>\n",
       "      <td>(2.000|0.300)</td>\n",
       "      <td>(nan|-1.195)</td>\n",
       "      <td>(2.000|3.349)</td>\n",
       "      <td>(7.000|7.252)</td>\n",
       "    </tr>\n",
       "    <tr>\n",
       "      <th>7</th>\n",
       "      <td>(7.000|6.983)</td>\n",
       "      <td>(1.000|2.575)</td>\n",
       "      <td>(2.000|2.087)</td>\n",
       "      <td>(7.000|5.754)</td>\n",
       "      <td>(9.000|8.780)</td>\n",
       "    </tr>\n",
       "    <tr>\n",
       "      <th>8</th>\n",
       "      <td>(3.000|3.002)</td>\n",
       "      <td>(3.000|2.805)</td>\n",
       "      <td>(nan|9.697)</td>\n",
       "      <td>(7.000|7.145)</td>\n",
       "      <td>(3.000|3.030)</td>\n",
       "    </tr>\n",
       "    <tr>\n",
       "      <th>9</th>\n",
       "      <td>(4.000|4.052)</td>\n",
       "      <td>(nan|0.104)</td>\n",
       "      <td>(5.000|4.444)</td>\n",
       "      <td>(3.000|3.991)</td>\n",
       "      <td>(3.000|2.524)</td>\n",
       "    </tr>\n",
       "  </tbody>\n",
       "</table>\n",
       "</div>"
      ],
      "text/plain": [
       "  The Call of Cthulhu   Frankenstein        Dracula    Neuromancer  \\\n",
       "0       (8.000|8.005)  (2.000|1.543)    (nan|5.923)  (5.000|5.379)   \n",
       "1       (3.000|2.992)  (2.000|2.757)    (nan|4.641)  (7.000|6.373)   \n",
       "2       (9.000|8.947)    (nan|3.097)  (7.000|7.564)  (8.000|6.959)   \n",
       "3        (nan|17.454)    (nan|4.588)  (7.000|7.001)  (8.000|7.996)   \n",
       "4       (nan|106.509)  (1.000|1.017)  (8.000|7.992)  (3.000|2.999)   \n",
       "5       (2.000|2.000)  (3.000|3.000)  (5.000|5.001)    (nan|6.661)   \n",
       "6       (4.000|4.017)  (2.000|0.300)   (nan|-1.195)  (2.000|3.349)   \n",
       "7       (7.000|6.983)  (1.000|2.575)  (2.000|2.087)  (7.000|5.754)   \n",
       "8       (3.000|3.002)  (3.000|2.805)    (nan|9.697)  (7.000|7.145)   \n",
       "9       (4.000|4.052)    (nan|0.104)  (5.000|4.444)  (3.000|3.991)   \n",
       "\n",
       "   Space Odyssey  \n",
       "0  (4.000|4.070)  \n",
       "1  (7.000|6.885)  \n",
       "2  (5.000|5.522)  \n",
       "3  (9.000|9.001)  \n",
       "4  (7.000|6.990)  \n",
       "5    (nan|6.968)  \n",
       "6  (7.000|7.252)  \n",
       "7  (9.000|8.780)  \n",
       "8  (3.000|3.030)  \n",
       "9  (3.000|2.524)  "
      ]
     },
     "execution_count": 17,
     "metadata": {},
     "output_type": "execute_result"
    }
   ],
   "source": [
    "values = [zip(user_ratings[i], predictions[i]) for i in range(0,predictions.shape[0])]\n",
    "comparison_data = pd.DataFrame(values)\n",
    "comparison_data.columns = user_ratings_df.columns\n",
    "comparison_data.applymap(lambda (x,y): \"(%2.3f|%2.3f)\"%(x,y))"
   ]
  },
  {
   "cell_type": "code",
   "execution_count": 19,
   "metadata": {
    "slideshow": {
     "slide_type": "fragment"
    }
   },
   "outputs": [
    {
     "data": {
      "text/html": [
       "<div>\n",
       "<style scoped>\n",
       "    .dataframe tbody tr th:only-of-type {\n",
       "        vertical-align: middle;\n",
       "    }\n",
       "\n",
       "    .dataframe tbody tr th {\n",
       "        vertical-align: top;\n",
       "    }\n",
       "\n",
       "    .dataframe thead th {\n",
       "        text-align: right;\n",
       "    }\n",
       "</style>\n",
       "<table border=\"1\" class=\"dataframe\">\n",
       "  <thead>\n",
       "    <tr style=\"text-align: right;\">\n",
       "      <th></th>\n",
       "      <th>The Call of Cthulhu</th>\n",
       "      <th>Frankenstein</th>\n",
       "      <th>Dracula</th>\n",
       "      <th>Neuromancer</th>\n",
       "      <th>Space Odyssey</th>\n",
       "    </tr>\n",
       "  </thead>\n",
       "  <tbody>\n",
       "    <tr>\n",
       "      <th>0</th>\n",
       "      <td>(8.0, 8.00468253203)</td>\n",
       "      <td>(2.0, 1.54296247414)</td>\n",
       "      <td>(nan, 5.92337869919)</td>\n",
       "      <td>(5.0, 5.37914487122)</td>\n",
       "      <td>(4.0, 4.06985139265)</td>\n",
       "    </tr>\n",
       "    <tr>\n",
       "      <th>1</th>\n",
       "      <td>(3.0, 2.99223688844)</td>\n",
       "      <td>(2.0, 2.75732656327)</td>\n",
       "      <td>(nan, 4.64078251381)</td>\n",
       "      <td>(7.0, 6.37275972013)</td>\n",
       "      <td>(7.0, 6.88515720566)</td>\n",
       "    </tr>\n",
       "    <tr>\n",
       "      <th>2</th>\n",
       "      <td>(9.0, 8.94720496999)</td>\n",
       "      <td>(nan, 3.09658841869)</td>\n",
       "      <td>(7.0, 7.56441415522)</td>\n",
       "      <td>(8.0, 6.95915689535)</td>\n",
       "      <td>(5.0, 5.52165639945)</td>\n",
       "    </tr>\n",
       "    <tr>\n",
       "      <th>3</th>\n",
       "      <td>(nan, 17.4535509778)</td>\n",
       "      <td>(nan, 4.588403074)</td>\n",
       "      <td>(7.0, 7.00111347477)</td>\n",
       "      <td>(8.0, 7.99608583397)</td>\n",
       "      <td>(9.0, 9.00140361916)</td>\n",
       "    </tr>\n",
       "    <tr>\n",
       "      <th>4</th>\n",
       "      <td>(nan, 106.508719931)</td>\n",
       "      <td>(1.0, 1.01678824114)</td>\n",
       "      <td>(8.0, 7.99244286965)</td>\n",
       "      <td>(3.0, 2.9993865991)</td>\n",
       "      <td>(7.0, 6.9903366565)</td>\n",
       "    </tr>\n",
       "    <tr>\n",
       "      <th>5</th>\n",
       "      <td>(2.0, 1.99985034152)</td>\n",
       "      <td>(3.0, 3.00038077751)</td>\n",
       "      <td>(5.0, 5.00146328587)</td>\n",
       "      <td>(nan, 6.66061794409)</td>\n",
       "      <td>(nan, 6.96838314483)</td>\n",
       "    </tr>\n",
       "    <tr>\n",
       "      <th>6</th>\n",
       "      <td>(4.0, 4.01733792564)</td>\n",
       "      <td>(2.0, 0.300167980818)</td>\n",
       "      <td>(nan, -1.1950583576)</td>\n",
       "      <td>(2.0, 3.34891515653)</td>\n",
       "      <td>(7.0, 7.2517555943)</td>\n",
       "    </tr>\n",
       "    <tr>\n",
       "      <th>7</th>\n",
       "      <td>(7.0, 6.98297290127)</td>\n",
       "      <td>(1.0, 2.57516021528)</td>\n",
       "      <td>(2.0, 2.0872468561)</td>\n",
       "      <td>(7.0, 5.75395052037)</td>\n",
       "      <td>(9.0, 8.78033685445)</td>\n",
       "    </tr>\n",
       "    <tr>\n",
       "      <th>8</th>\n",
       "      <td>(3.0, 3.00184100002)</td>\n",
       "      <td>(3.0, 2.80475252204)</td>\n",
       "      <td>(nan, 9.69679245087)</td>\n",
       "      <td>(7.0, 7.14492290293)</td>\n",
       "      <td>(3.0, 3.02956348242)</td>\n",
       "    </tr>\n",
       "    <tr>\n",
       "      <th>9</th>\n",
       "      <td>(4.0, 4.05241874356)</td>\n",
       "      <td>(nan, 0.104240395222)</td>\n",
       "      <td>(5.0, 4.44402796863)</td>\n",
       "      <td>(3.0, 3.99111793919)</td>\n",
       "      <td>(3.0, 2.52398755739)</td>\n",
       "    </tr>\n",
       "  </tbody>\n",
       "</table>\n",
       "</div>"
      ],
      "text/plain": [
       "    The Call of Cthulhu           Frankenstein               Dracula  \\\n",
       "0  (8.0, 8.00468253203)   (2.0, 1.54296247414)  (nan, 5.92337869919)   \n",
       "1  (3.0, 2.99223688844)   (2.0, 2.75732656327)  (nan, 4.64078251381)   \n",
       "2  (9.0, 8.94720496999)   (nan, 3.09658841869)  (7.0, 7.56441415522)   \n",
       "3  (nan, 17.4535509778)     (nan, 4.588403074)  (7.0, 7.00111347477)   \n",
       "4  (nan, 106.508719931)   (1.0, 1.01678824114)  (8.0, 7.99244286965)   \n",
       "5  (2.0, 1.99985034152)   (3.0, 3.00038077751)  (5.0, 5.00146328587)   \n",
       "6  (4.0, 4.01733792564)  (2.0, 0.300167980818)  (nan, -1.1950583576)   \n",
       "7  (7.0, 6.98297290127)   (1.0, 2.57516021528)   (2.0, 2.0872468561)   \n",
       "8  (3.0, 3.00184100002)   (3.0, 2.80475252204)  (nan, 9.69679245087)   \n",
       "9  (4.0, 4.05241874356)  (nan, 0.104240395222)  (5.0, 4.44402796863)   \n",
       "\n",
       "            Neuromancer         Space Odyssey  \n",
       "0  (5.0, 5.37914487122)  (4.0, 4.06985139265)  \n",
       "1  (7.0, 6.37275972013)  (7.0, 6.88515720566)  \n",
       "2  (8.0, 6.95915689535)  (5.0, 5.52165639945)  \n",
       "3  (8.0, 7.99608583397)  (9.0, 9.00140361916)  \n",
       "4   (3.0, 2.9993865991)   (7.0, 6.9903366565)  \n",
       "5  (nan, 6.66061794409)  (nan, 6.96838314483)  \n",
       "6  (2.0, 3.34891515653)   (7.0, 7.2517555943)  \n",
       "7  (7.0, 5.75395052037)  (9.0, 8.78033685445)  \n",
       "8  (7.0, 7.14492290293)  (3.0, 3.02956348242)  \n",
       "9  (3.0, 3.99111793919)  (3.0, 2.52398755739)  "
      ]
     },
     "execution_count": 19,
     "metadata": {},
     "output_type": "execute_result"
    }
   ],
   "source": [
    "comparison_data"
   ]
  },
  {
   "cell_type": "code",
   "execution_count": 25,
   "metadata": {},
   "outputs": [],
   "source": [
    "d = comparison_data.to_latex()\n",
    "text_file = open(\"comparison.tex\", \"w\")\n",
    "text_file.write(\"\\\\documentclass{article}\\n\\\\usepackage{booktabs}\\n\\\\begin{document}\")\n",
    "text_file.write(d)\n",
    "text_file.write(\"\\\\end{document}\")\n",
    "text_file.close()"
   ]
  }
 ],
 "metadata": {
  "kernelspec": {
   "display_name": "Python 3",
   "language": "python",
   "name": "python3"
  },
  "language_info": {
   "codemirror_mode": {
    "name": "ipython",
    "version": 2
   },
   "file_extension": ".py",
   "mimetype": "text/x-python",
   "name": "python",
   "nbconvert_exporter": "python",
   "pygments_lexer": "ipython2",
   "version": "2.7.15rc1"
  }
 },
 "nbformat": 4,
 "nbformat_minor": 1
}
