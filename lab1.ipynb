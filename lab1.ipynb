{
 "cells": [
  {
   "cell_type": "markdown",
   "metadata": {},
   "source": [
    "# CE888: Data Science and Decision Making Lab 1\n"
   ]
  },
  {
   "cell_type": "markdown",
   "metadata": {},
   "source": [
    "Over today's practice you'll learn:\n",
    "* to use JuPyter notebooks to quickly prototype code and show results\n",
    "* the numerical Python library\n",
    "\n",
    "This lab is divided in two parts. In each of them, you will have to fill in the gaps following the instructions given.\n",
    "The prompts for you to write code will look like this:"
   ]
  },
  {
   "cell_type": "code",
   "execution_count": null,
   "metadata": {},
   "outputs": [],
   "source": [
    "#<------------INSERT CODE HERE------------>"
   ]
  },
  {
   "cell_type": "markdown",
   "metadata": {},
   "source": [
    "This might involve more than one line of code from you!\n",
    "\n",
    "Do **not** delete code from the notebook.\n",
    "\n",
    "Let's start!"
   ]
  },
  {
   "cell_type": "markdown",
   "metadata": {},
   "source": [
    "## Part 1\n",
    "\n",
    "In the first part of the lab we're going to check your Python skills and, in particular, we will ask you to create some functions to operate on vectors and matrices.\n",
    "\n"
   ]
  },
  {
   "cell_type": "markdown",
   "metadata": {},
   "source": [
    "### Operations with vectors"
   ]
  },
  {
   "cell_type": "code",
   "execution_count": 11,
   "metadata": {},
   "outputs": [
    {
     "name": "stdout",
     "output_type": "stream",
     "text": [
      "[1, 2, 4, 78, 93]\n",
      "The vector has 5 elements\n",
      "<class 'list'>\n"
     ]
    }
   ],
   "source": [
    "# Let's create a vector. We can do this as a Python built-in type: the list\n",
    "vector1 = [1, 2, 4, 78, 93] # we declare the vector as a list of elements\n",
    "\n",
    "import numpy as np\n",
    "\n",
    "print(vector1)\n",
    "print(\"The vector has %d elements\" % len(vector1))\n",
    "print(vector1.__class__)"
   ]
  },
  {
   "cell_type": "code",
   "execution_count": 113,
   "metadata": {},
   "outputs": [],
   "source": [
    "# Let's add a number to every element of the vector.\n",
    "## Exercise: create a function that, given a vector and a number,\n",
    "## returns the addition of that number to each element of the vector\n",
    "def vector_plus_num(vector, number):\n",
    "    vs = []\n",
    "    for v in vector:\n",
    "        vs.append(v + number)\n",
    "    #<------------INSERT CODE HERE------------>\n",
    "    \n",
    "    return vector"
   ]
  },
  {
   "cell_type": "code",
   "execution_count": 117,
   "metadata": {},
   "outputs": [
    {
     "name": "stdout",
     "output_type": "stream",
     "text": [
      "[1, 2, 4, 78, 93]\n",
      "[1, 2, 4, 78, 93]\n"
     ]
    }
   ],
   "source": [
    "# Let's test your function:\n",
    "print(vector_plus_num(vector1, 5))\n",
    "print(vector_plus_num(vector1, -33))"
   ]
  },
  {
   "cell_type": "markdown",
   "metadata": {},
   "source": [
    "What if we now wanted to mutiply a number and a vector? **Do not do it**, just think about what you'd need!"
   ]
  },
  {
   "cell_type": "markdown",
   "metadata": {},
   "source": [
    "And what if we want to calculate the mean value of your vector?"
   ]
  },
  {
   "cell_type": "code",
   "execution_count": 122,
   "metadata": {},
   "outputs": [],
   "source": [
    "## Exercise: create a function that, given a vector,\n",
    "## returns the mean value of its elements.\n",
    "def vector_mean(vector):\n",
    "    \n",
    "    i = 0\n",
    "    sum_v = 0\n",
    "    for v in vector:\n",
    "        sum_v += v\n",
    "        i += 1\n",
    "    sum_v /= i\n",
    "    \n",
    "    \n",
    "    return sum_v"
   ]
  },
  {
   "cell_type": "code",
   "execution_count": 123,
   "metadata": {},
   "outputs": [
    {
     "name": "stdout",
     "output_type": "stream",
     "text": [
      "mean of [ 0  2  4  6  8 10] = 5\n"
     ]
    }
   ],
   "source": [
    "# Now test your function:\n",
    "\n",
    "x = np.array([0,2,4,6,8,10])\n",
    "\n",
    "assert(vector_mean(x) == 5)\n",
    "print(\"mean of {} = 5\".format(x))\n",
    "\n",
    "#<------------INSERT CODE HERE------------>"
   ]
  },
  {
   "cell_type": "markdown",
   "metadata": {},
   "source": [
    "We will now work on operations between pairs of vectors."
   ]
  },
  {
   "cell_type": "code",
   "execution_count": 124,
   "metadata": {},
   "outputs": [],
   "source": [
    "# Now let's create a new vector, called vector2, of the same length as vector1.\n",
    "# We will then look at operations with multiple vectors, \n",
    "# such as adding and subtracting them, and vector multiplications.\n",
    "vector2 = np.zeros(5)\n",
    "\n",
    "assert len(vector1) == len(vector2), \"The vectors are not of the same length\""
   ]
  },
  {
   "cell_type": "code",
   "execution_count": 130,
   "metadata": {},
   "outputs": [],
   "source": [
    "# Create a function that returns new vector of the same length as vector1 and vector2, \n",
    "# for which each element is the sum of the corresponding elements from vector1 and vector2.\n",
    "\n",
    "# Feel free to create a function to do this!\n",
    "\n",
    "def add_two_vectors(vect1, vect2):\n",
    "    sum_vec = []\n",
    "    for a in vect1:\n",
    "        for b in vect2:\n",
    "            sum_vec.append(a+b)\n",
    "    return sum_vec"
   ]
  },
  {
   "cell_type": "code",
   "execution_count": 131,
   "metadata": {},
   "outputs": [
    {
     "name": "stdout",
     "output_type": "stream",
     "text": [
      "[1.0, 1.0, 1.0, 1.0, 1.0, 2.0, 2.0, 2.0, 2.0, 2.0, 4.0, 4.0, 4.0, 4.0, 4.0, 78.0, 78.0, 78.0, 78.0, 78.0, 93.0, 93.0, 93.0, 93.0, 93.0]\n",
      "[2, 3, 4, 3, 4, 5, 5, 6, 7, 79, 80, 81, 94, 95, 96]\n"
     ]
    }
   ],
   "source": [
    "# Let's test your function:\n",
    "print(add_two_vectors(vector1, vector2))\n",
    "print(add_two_vectors(vector1, [1, 2, 3]))\n",
    "# If the second print resulted in an error, don't worry about it for now!"
   ]
  },
  {
   "cell_type": "markdown",
   "metadata": {},
   "source": [
    "How about the multiplication of vectors?\n",
    "There are two types of vector multiplications:\n",
    "* The dot product (or scalar product) takes two vectors and returns a scalar.\n",
    "* The cross product (or vector product) takes two vectors and returns another vector."
   ]
  },
  {
   "cell_type": "markdown",
   "metadata": {},
   "source": [
    "Now let's create a function that returns the scalar product of two vectors.\n",
    "\n",
    "This can be done by multiplying pairs of elements and adding the result:\n",
    "\n",
    "A = [A1, A2, A3, ..., An]\n",
    "\n",
    "B = [B1, B2, B3, ..., Bn]\n",
    "\n",
    "A · B = A1·B1 + A2·B2 + ... An·Bn"
   ]
  },
  {
   "cell_type": "code",
   "execution_count": 136,
   "metadata": {},
   "outputs": [],
   "source": [
    "def scalar_product(v1, v2):\n",
    "    scalar_product = 0\n",
    "    \n",
    "    for i in v1:\n",
    "        for j in v2:\n",
    "            scalar_product += i*j\n",
    "    \n",
    "    return scalar_product"
   ]
  },
  {
   "cell_type": "code",
   "execution_count": 137,
   "metadata": {},
   "outputs": [
    {
     "name": "stdout",
     "output_type": "stream",
     "text": [
      "0.0\n"
     ]
    }
   ],
   "source": [
    "# Test your function\n",
    "\n",
    "dot_prod = scalar_product(vector1, vector2)\n",
    "\n",
    "print(dot_prod)\n",
    "\n",
    "assert(dot_prod == 0)\n",
    "\n",
    "\n",
    "\n",
    "#<------------INSERT CODE HERE------------>"
   ]
  },
  {
   "cell_type": "markdown",
   "metadata": {},
   "source": [
    "### Operations with matrices\n",
    "\n",
    "Again, there are multiple things we can do with matrices. For example, adding/subtracting/multiplying a number to each element of a matrix and matrix multiplication.\n",
    "\n",
    "We're going to attempt the last one only."
   ]
  },
  {
   "cell_type": "code",
   "execution_count": 157,
   "metadata": {},
   "outputs": [],
   "source": [
    "# Create a function that receives two matrices as input and returns the matrix multiplication of the two\n",
    "# If you don't know how to multiply two matrices, check:\n",
    "# https://en.wikipedia.org/wiki/Matrix_multiplication#Definition\n",
    "\n",
    "def matrix_multiplication(matrix1, matrix2):\n",
    "    i = 0\n",
    "    j = 0\n",
    "    multipl_result = []\n",
    "    for m in matrix1:\n",
    "        for n in matrix2:\n",
    "            multipl_result.append(matrix1[i][j] * matrix2[i][j]) \n",
    "        i+= 1\n",
    "    \n",
    "    return multipl_result"
   ]
  },
  {
   "cell_type": "code",
   "execution_count": 149,
   "metadata": {},
   "outputs": [],
   "source": [
    "# And let's test your function:\n",
    "# NOTE: some of the tests below will give errors. Don't worry about them!\n",
    "matrixA = [[1, 2, 3], [1, 2, 3]]\n",
    "matrixB = [[5, 6, 7], [5, 6, 7], [5, 6, 7]]\n",
    "matrixC = [[8, 9], [8, 9], [8, 9], [8, 9]]\n",
    "matrixD = [[10, 11], [10, 11], [10, 11]]"
   ]
  },
  {
   "cell_type": "code",
   "execution_count": 158,
   "metadata": {},
   "outputs": [
    {
     "name": "stdout",
     "output_type": "stream",
     "text": [
      "[5, 5, 5, 5, 5, 5]\n"
     ]
    }
   ],
   "source": [
    "print(matrix_multiplication(matrixA, matrixB))"
   ]
  },
  {
   "cell_type": "code",
   "execution_count": 159,
   "metadata": {},
   "outputs": [
    {
     "name": "stdout",
     "output_type": "stream",
     "text": [
      "[8, 8, 8, 8, 8, 8, 8, 8]\n"
     ]
    }
   ],
   "source": [
    "print(matrix_multiplication(matrixA, matrixC))"
   ]
  },
  {
   "cell_type": "code",
   "execution_count": 164,
   "metadata": {},
   "outputs": [
    {
     "ename": "IndexError",
     "evalue": "list index out of range",
     "output_type": "error",
     "traceback": [
      "\u001b[1;31m---------------------------------------------------------------------------\u001b[0m",
      "\u001b[1;31mIndexError\u001b[0m                                Traceback (most recent call last)",
      "\u001b[1;32m<ipython-input-164-ff3680e07e4b>\u001b[0m in \u001b[0;36m<module>\u001b[1;34m()\u001b[0m\n\u001b[1;32m----> 1\u001b[1;33m \u001b[0mprint\u001b[0m\u001b[1;33m(\u001b[0m\u001b[0mmatrix_multiplication\u001b[0m\u001b[1;33m(\u001b[0m\u001b[0mmatrixD\u001b[0m\u001b[1;33m,\u001b[0m \u001b[0mmatrixA\u001b[0m\u001b[1;33m)\u001b[0m\u001b[1;33m)\u001b[0m\u001b[1;33m\u001b[0m\u001b[0m\n\u001b[0m",
      "\u001b[1;32m<ipython-input-157-c648f1b1e3fa>\u001b[0m in \u001b[0;36mmatrix_multiplication\u001b[1;34m(matrix1, matrix2)\u001b[0m\n\u001b[0;32m      9\u001b[0m     \u001b[1;32mfor\u001b[0m \u001b[0mm\u001b[0m \u001b[1;32min\u001b[0m \u001b[0mmatrix1\u001b[0m\u001b[1;33m:\u001b[0m\u001b[1;33m\u001b[0m\u001b[0m\n\u001b[0;32m     10\u001b[0m         \u001b[1;32mfor\u001b[0m \u001b[0mn\u001b[0m \u001b[1;32min\u001b[0m \u001b[0mmatrix2\u001b[0m\u001b[1;33m:\u001b[0m\u001b[1;33m\u001b[0m\u001b[0m\n\u001b[1;32m---> 11\u001b[1;33m             \u001b[0mmultipl_result\u001b[0m\u001b[1;33m.\u001b[0m\u001b[0mappend\u001b[0m\u001b[1;33m(\u001b[0m\u001b[0mmatrix1\u001b[0m\u001b[1;33m[\u001b[0m\u001b[0mi\u001b[0m\u001b[1;33m]\u001b[0m\u001b[1;33m[\u001b[0m\u001b[0mj\u001b[0m\u001b[1;33m]\u001b[0m \u001b[1;33m*\u001b[0m \u001b[0mmatrix2\u001b[0m\u001b[1;33m[\u001b[0m\u001b[0mi\u001b[0m\u001b[1;33m]\u001b[0m\u001b[1;33m[\u001b[0m\u001b[0mj\u001b[0m\u001b[1;33m]\u001b[0m\u001b[1;33m)\u001b[0m\u001b[1;33m\u001b[0m\u001b[0m\n\u001b[0m\u001b[0;32m     12\u001b[0m         \u001b[0mi\u001b[0m\u001b[1;33m+=\u001b[0m \u001b[1;36m1\u001b[0m\u001b[1;33m\u001b[0m\u001b[0m\n\u001b[0;32m     13\u001b[0m \u001b[1;33m\u001b[0m\u001b[0m\n",
      "\u001b[1;31mIndexError\u001b[0m: list index out of range"
     ]
    }
   ],
   "source": [
    "print(matrix_multiplication(matrixD, matrixA))"
   ]
  },
  {
   "cell_type": "markdown",
   "metadata": {},
   "source": [
    "Hopefully this has convinced you that operating with vectors and matrices like this is not the best way.\n",
    "Now we will turn to the second part of this lab, in which you will be introduced to the numerical Python library, *numpy*."
   ]
  },
  {
   "cell_type": "markdown",
   "metadata": {},
   "source": [
    "## Part 2: Numpy\n"
   ]
  },
  {
   "cell_type": "markdown",
   "metadata": {},
   "source": [
    "Numpy has a built-in type called the *ndarray*. "
   ]
  },
  {
   "cell_type": "code",
   "execution_count": 54,
   "metadata": {},
   "outputs": [],
   "source": [
    "import numpy as np # Importing convention for Numpy"
   ]
  },
  {
   "cell_type": "markdown",
   "metadata": {},
   "source": [
    "#### Creating and manipulating arrays"
   ]
  },
  {
   "cell_type": "code",
   "execution_count": 55,
   "metadata": {},
   "outputs": [
    {
     "name": "stdout",
     "output_type": "stream",
     "text": [
      "[1. 2. 3.]\n",
      "float32\n",
      "[1.+2.j 3.-4.j]\n",
      "complex64\n",
      "[False  True  True]\n",
      "bool\n",
      "[[1 2 3]\n",
      " [1 2 3]]\n",
      "int32\n",
      "(2, 3)\n",
      "[0. 0. 0. 0. 0.]\n",
      "float64\n",
      "(5,)\n"
     ]
    }
   ],
   "source": [
    "# Create arrays with a specified data type\n",
    "\n",
    "arr = np.array([1, 2, 3], dtype=np.float32)\n",
    "print(arr)\n",
    "print(arr.dtype)\n",
    "\n",
    "arr = np.array([1+2j, 3-4j], dtype=np.complex64)  # an array of complex numbers\n",
    "print(arr)\n",
    "print(arr.dtype)\n",
    "\n",
    "arr = np.array([0, 1, 1], dtype=np.bool)  # an array of True/False values\n",
    "print(arr)\n",
    "print(arr.dtype)\n",
    "\n",
    "# We can also create arrays from the vectors and matrices we had before.\n",
    "arr = np.array(matrixA)\n",
    "print(arr)\n",
    "print(arr.dtype)\n",
    "print(arr.shape)\n",
    "\n",
    "arr = np.array(vector2)\n",
    "print(arr)\n",
    "print(arr.dtype)\n",
    "print(arr.shape)\n"
   ]
  },
  {
   "cell_type": "code",
   "execution_count": 56,
   "metadata": {},
   "outputs": [
    {
     "name": "stdout",
     "output_type": "stream",
     "text": [
      "[0 1 2 3 4 5 6 7 8 9]\n",
      "shape: (10,)\n",
      "dtype: int32\n",
      "dim: 1\n",
      "itemsize: 4\n"
     ]
    }
   ],
   "source": [
    "arr_range2 = np.arange(10)\n",
    "print(arr_range2)\n",
    "\n",
    "# Retrieving information on the array\n",
    "print(\"shape:\", arr_range2.shape)\n",
    "print(\"dtype:\", arr_range2.dtype)\n",
    "print(\"dim:\", arr_range2.ndim)\n",
    "print(\"itemsize:\", arr_range2.itemsize)"
   ]
  },
  {
   "cell_type": "code",
   "execution_count": 57,
   "metadata": {},
   "outputs": [
    {
     "name": "stdout",
     "output_type": "stream",
     "text": [
      "[ 0  5 10 15 20 25 30 35 40 45 50 55 60 65 70 75 80 85 90 95]\n",
      "[ 0.          0.52631579  1.05263158  1.57894737  2.10526316  2.63157895\n",
      "  3.15789474  3.68421053  4.21052632  4.73684211  5.26315789  5.78947368\n",
      "  6.31578947  6.84210526  7.36842105  7.89473684  8.42105263  8.94736842\n",
      "  9.47368421 10.        ]\n"
     ]
    }
   ],
   "source": [
    "# We can use the np.arange function to create a range of values:\n",
    "arr = np.arange(0, 100, 5) #np.arange(start, stop, pace)\n",
    "print(arr)\n",
    "# Note: is the last value (100) included?\n",
    "\n",
    "# Similarly, we can use np.linspace:\n",
    "# np.linspace(start, stop, num_of_elements, endpoint=True) \n",
    "arr = np.linspace(0, 10, 20)\n",
    "print(arr)\n",
    "# Note: is the last value (10) included now?"
   ]
  },
  {
   "cell_type": "code",
   "execution_count": 58,
   "metadata": {},
   "outputs": [
    {
     "name": "stdout",
     "output_type": "stream",
     "text": [
      "[[1.5 2.  3. ]\n",
      " [4.  5.  6. ]]\n",
      "(2, 3)\n"
     ]
    }
   ],
   "source": [
    "arr_2d = np.array([(1.5, 2, 3), (4, 5, 6)]) # creating an array from a list of tuples\n",
    "print(arr_2d)\n",
    "print(arr_2d.shape)"
   ]
  },
  {
   "cell_type": "code",
   "execution_count": 59,
   "metadata": {},
   "outputs": [
    {
     "name": "stdout",
     "output_type": "stream",
     "text": [
      "arr_2d[0,0] : 1.5\n",
      "arr_2d[0,:] :  [1.5 2.  3. ]\n",
      "arr_2d[:,0] : [1.5 4. ]\n",
      "[3. 4. 5. 6.]\n"
     ]
    }
   ],
   "source": [
    "# Slicing (i.e., accessing specific elements of the array)\n",
    "\n",
    "print(\"arr_2d[0,0] :\", arr_2d[0, 0])\n",
    "print(\"arr_2d[0,:] : \", arr_2d[0, :])\n",
    "print(\"arr_2d[:,0] :\", arr_2d[:, 0])\n",
    "\n",
    "print(arr_2d[arr_2d > 2])"
   ]
  },
  {
   "cell_type": "code",
   "execution_count": 60,
   "metadata": {},
   "outputs": [
    {
     "name": "stdout",
     "output_type": "stream",
     "text": [
      "[[0. 0. 0. 0. 0. 0. 0. 0. 0. 0.]\n",
      " [0. 0. 0. 0. 0. 0. 0. 0. 0. 0.]\n",
      " [0. 0. 0. 0. 0. 0. 0. 0. 0. 0.]\n",
      " [0. 0. 0. 0. 0. 0. 0. 0. 0. 0.]\n",
      " [0. 0. 0. 0. 0. 0. 0. 0. 0. 0.]\n",
      " [0. 0. 0. 0. 0. 0. 0. 0. 0. 0.]\n",
      " [0. 0. 0. 0. 0. 0. 0. 0. 0. 0.]\n",
      " [0. 0. 0. 0. 0. 0. 0. 0. 0. 0.]\n",
      " [0. 0. 0. 0. 0. 0. 0. 0. 0. 0.]\n",
      " [0. 0. 0. 0. 0. 0. 0. 0. 0. 0.]]\n",
      "[[1. 1. 1. 1.]\n",
      " [1. 1. 1. 1.]\n",
      " [1. 1. 1. 1.]\n",
      " [1. 1. 1. 1.]]\n",
      "[[1. 1. 1. 1. 1. 1. 1. 1.]\n",
      " [1. 1. 1. 1. 1. 1. 1. 1.]]\n"
     ]
    }
   ],
   "source": [
    "# Other types of arrays\n",
    "\n",
    "zeros = np.zeros((10, 10))\n",
    "print(zeros)\n",
    "# print the shape of zeros\n",
    "#<------------INSERT CODE HERE------------>\n",
    "\n",
    "ones = np.ones((4, 4))\n",
    "print(ones)\n",
    "# print the shape of ones\n",
    "#<------------INSERT CODE HERE------------>\n",
    "\n",
    "print(ones.reshape(2, 8))\n",
    "# print the shape of ones\n",
    "#<------------INSERT CODE HERE------------>"
   ]
  },
  {
   "cell_type": "code",
   "execution_count": 75,
   "metadata": {},
   "outputs": [
    {
     "name": "stdout",
     "output_type": "stream",
     "text": [
      "(1, 1000)\n",
      "[-1.05288817 -0.65647273  0.01857709 -0.32578248  0.56992201 -0.21433424\n",
      "  0.66332658 -0.2778154  -0.63448541  0.77669095]\n"
     ]
    }
   ],
   "source": [
    "# We can also use numpy to generate random values.\n",
    "randn = np.random.randn(1, 1000)\n",
    "# print the shape of randn\n",
    "print(randn.shape)\n",
    "\n",
    "# print the first 10 elements of randn. What happens if you re-run this code?\n",
    "#<------------INSERT CODE HERE------------>\n",
    "print(randn[0][0:10])\n"
   ]
  },
  {
   "cell_type": "code",
   "execution_count": 103,
   "metadata": {},
   "outputs": [
    {
     "name": "stdout",
     "output_type": "stream",
     "text": [
      "(3, 2)\n",
      "[[ 0.66698806  0.02581308]\n",
      " [-0.77761941  0.94863382]\n",
      " [ 0.70167179 -1.05108156]]\n"
     ]
    }
   ],
   "source": [
    "np.random.seed(23)\n",
    "\n",
    "# Generate a new array of random numbers, this time of shape (3, 2) and print it.\n",
    "# What happens when you re-run the code now?\n",
    "# TIP: you might want to save the result to compare the previous and the new one\n",
    "\n",
    "randn = np.random.randn(3, 2)\n",
    "print(randn.shape)\n",
    "print(randn)\n",
    "\n",
    "#<------------INSERT CODE HERE------------>\n",
    "\n",
    "\n",
    "# Think: what does np.seed() do? (Use Google if you don't know!)"
   ]
  },
  {
   "cell_type": "markdown",
   "metadata": {},
   "source": [
    "#### Combine arrays"
   ]
  },
  {
   "cell_type": "code",
   "execution_count": 105,
   "metadata": {},
   "outputs": [
    {
     "name": "stdout",
     "output_type": "stream",
     "text": [
      "(2, 4)\n",
      "(2, 4)\n",
      "#######################\n",
      "(2, 4)\n",
      "(2, 4)\n",
      "(4, 4)\n",
      "#######################\n",
      "(2, 4)\n",
      "(2, 4)\n",
      "(2, 8)\n",
      "#######################\n",
      "(2, 4)\n",
      "(2, 4)\n",
      "(4, 4)\n",
      "#######################\n",
      "(2, 4)\n",
      "(2, 4)\n",
      "(2, 8)\n",
      "#######################\n"
     ]
    }
   ],
   "source": [
    "arr1 = np.array([[1, 2, 3, 4], [1, 2, 3, 4]])\n",
    "arr2 = np.array([[5, 6, 7, 8], [5, 6, 7 , 8]])\n",
    "\n",
    "# Print the shapes of arr1 and arr2 and cat after each of the types of concatenations.\n",
    "# Concatenating arrays is a very common operation. Make sure you understand it!\n",
    "# TIP: it might help you to print the actual cat array after each type of concatenation too\n",
    "\n",
    "print(arr1.shape)\n",
    "print(arr2.shape)\n",
    "print(\"#######################\")\n",
    "\n",
    "#<------------INSERT CODE HERE------------>\n",
    "\n",
    "\n",
    "# concatenate along the row\n",
    "cat = np.concatenate((arr1, arr2), axis=0)\n",
    "print(arr1.shape)\n",
    "print(arr2.shape)\n",
    "print(cat.shape)\n",
    "print(\"#######################\")\n",
    "#<------------INSERT CODE HERE------------>\n",
    "\n",
    "\n",
    "# concatenate along the column\n",
    "cat = np.concatenate((arr1, arr2), axis=1)    \n",
    "#<------------INSERT CODE HERE------------>\n",
    "print(arr1.shape)\n",
    "print(arr2.shape)\n",
    "print(cat.shape)\n",
    "print(\"#######################\")\n",
    "\n",
    "\n",
    "# stack arrays vertically\n",
    "cat = np.vstack((arr1, arr2))\n",
    "#<------------INSERT CODE HERE------------>\n",
    "print(arr1.shape)\n",
    "print(arr2.shape)\n",
    "print(cat.shape)\n",
    "print(\"#######################\")\n",
    "\n",
    "# stack arrays horizontally\n",
    "cat = np.hstack((arr1, arr2))\n",
    "#<------------INSERT CODE HERE------------>\n",
    "print(arr1.shape)\n",
    "print(arr2.shape)\n",
    "print(cat.shape)\n",
    "print(\"#######################\")\n"
   ]
  },
  {
   "cell_type": "markdown",
   "metadata": {},
   "source": [
    "#### Operations with arrays"
   ]
  },
  {
   "cell_type": "code",
   "execution_count": 106,
   "metadata": {},
   "outputs": [],
   "source": [
    "#Let's create a couple of vectors using numpy\n",
    "v1 = np.array([20, 30, 40, 50])\n",
    "v2 = np.arange(4)\n",
    "\n",
    "#And a couple of matrices\n",
    "mat1 = np.array([[1, 2, 3, 4], [1, 2, 3, 4]])\n",
    "mat2 = mat1.T # this is the transpose of mat1"
   ]
  },
  {
   "cell_type": "code",
   "execution_count": 108,
   "metadata": {},
   "outputs": [
    {
     "name": "stdout",
     "output_type": "stream",
     "text": [
      "[25 35 45 55]\n",
      "[[2368 2369 2370 2371]\n",
      " [2368 2369 2370 2371]]\n"
     ]
    }
   ],
   "source": [
    "# Add a number to an array of 1-D (i.e., a vector)\n",
    "print(5 + v1)\n",
    "# Compare the line above to your function vector_plus_num(vector, number) from Part 1.\n",
    "\n",
    "# Does your function work with matrices?\n",
    "\n",
    "# How do you add a number to a np.array object? Try adding 2367 to mat1\n",
    "print(2367+mat1)\n",
    "\n",
    "#<------------INSERT CODE HERE------------>\n",
    "\n"
   ]
  },
  {
   "cell_type": "code",
   "execution_count": 151,
   "metadata": {},
   "outputs": [
    {
     "name": "stdout",
     "output_type": "stream",
     "text": [
      "Adding two vectors [20 31 42 53]\n",
      "Subtracting two vectors [20 29 38 47]\n",
      "[0.         1.         1.41421356 1.73205081]\n",
      "[2.99573227 3.40119738 3.68887945 3.91202301]\n"
     ]
    }
   ],
   "source": [
    "# Let's try to add and subtract vectors now:\n",
    "print(\"Adding two vectors\", v1 + v2)\n",
    "print(\"Subtracting two vectors\", v1 - v2)\n",
    "\n",
    "# What happens if you try to add two vectors of different length?\n",
    "# throws error\n",
    "# print(\"Adding two vectors of different size\", np.array([1,3,5,7,9]) + np.array([2,10]))\n",
    "\n",
    "# Square root of each elemnt of v2:\n",
    "print(np.sqrt(v2))\n",
    "\n",
    "# Calculate the logarithm of each element of v1\n",
    "# TIP: check if you can do this using some numpy function!\n",
    "print(np.log(v1))\n",
    "\n",
    "#<------------INSERT CODE HERE------------>\n",
    "\n"
   ]
  },
  {
   "cell_type": "markdown",
   "metadata": {},
   "source": [
    "### Multiplication of vectors\n",
    "\n",
    "There are a number of functions in numpy that you can use to multiply vectors and matrices.\n",
    "\n",
    "Scalar product of two vectors: np.dot(vector1, vector2)\n",
    "\n",
    "Vector product of two vectors: np.cross(x, y)"
   ]
  },
  {
   "cell_type": "code",
   "execution_count": 177,
   "metadata": {},
   "outputs": [
    {
     "name": "stdout",
     "output_type": "stream",
     "text": [
      "840\n",
      "260\n",
      "3901.5296799573916\n",
      "3.683534622192383\n",
      "17.256198822274378\n",
      "0.0\n"
     ]
    }
   ],
   "source": [
    "# Calculate the scalar product of v1 and v2 using your function from part 1 and the numpy function.\n",
    "#<------------INSERT CODE HERE------------>\n",
    "print(scalar_product(v1, v2))\n",
    "print(np.dot(v1, v2))\n",
    "\n",
    "# Check if the result is the same using your function from Part 1\n",
    "\n",
    "\n",
    "#<------------INSERT CODE HERE------------>\n",
    "\n",
    "\n",
    "v3 = np.random.randn(4000)\n",
    "v4 = np.random.randn(4000)\n",
    "# Calculate the scalar product of v3 and v4 using your function from part 1 and the numpy function.\n",
    "# Compare the time it takes to execute each of them.\n",
    "# HINT: https://stackoverflow.com/questions/7370801/measure-time-elapsed-in-python\n",
    "import time\n",
    "start = time.time()\n",
    "print(scalar_product(v3, v4))\n",
    "end = time.time()\n",
    "print(end - start)\n",
    "\n",
    "start = time.time()\n",
    "print(np.dot(v3, v4))\n",
    "end = time.time()\n",
    "print(end - start)\n",
    "\n",
    "#<------------INSERT CODE HERE------------>\n",
    "\n"
   ]
  },
  {
   "cell_type": "code",
   "execution_count": 155,
   "metadata": {},
   "outputs": [
    {
     "name": "stdout",
     "output_type": "stream",
     "text": [
      "[  0  30  80 150]\n"
     ]
    }
   ],
   "source": [
    "# Calculate the vector product of v1 and v2 using the numpy function.\n",
    "\n",
    "print(v1*v2)\n",
    "\n",
    "#<------------INSERT CODE HERE------------>"
   ]
  },
  {
   "cell_type": "markdown",
   "metadata": {},
   "source": [
    "### Matrix multiplication\n",
    "\n",
    "This can be done on numpy using: np.matmul(a, b)"
   ]
  },
  {
   "cell_type": "code",
   "execution_count": 178,
   "metadata": {},
   "outputs": [
    {
     "name": "stdout",
     "output_type": "stream",
     "text": [
      "[[30 30]\n",
      " [30 30]]\n",
      "0.0\n",
      "[1, 1, 1, 1, 2, 2, 2, 2]\n",
      "0.0\n"
     ]
    }
   ],
   "source": [
    "# Check the result of multiplying mat1 and mat2 using the numpy function and the one you created in part 1.\n",
    "# Check the execution time for each of them. Which one is faster? \n",
    "\n",
    "start = time.time()\n",
    "print (np.dot(mat1, mat2))\n",
    "end = time.time()\n",
    "print(end - start)\n",
    "\n",
    "start = time.time()\n",
    "print (matrix_multiplication(mat1, mat2))\n",
    "end = time.time()\n",
    "print(end - start)\n",
    "\n",
    "\n",
    "\n",
    "#<------------INSERT CODE HERE------------>\n",
    "\n",
    "\n",
    "# Is it the same result?\n",
    "\n",
    "#<------------INSERT CODE HERE------------>"
   ]
  },
  {
   "cell_type": "markdown",
   "metadata": {},
   "source": [
    "**Plotting a function**"
   ]
  },
  {
   "cell_type": "code",
   "execution_count": 179,
   "metadata": {},
   "outputs": [],
   "source": [
    "import matplotlib.pyplot as plt"
   ]
  },
  {
   "cell_type": "code",
   "execution_count": 188,
   "metadata": {},
   "outputs": [
    {
     "data": {
      "image/png": "[encoded data removed]",
      "text/plain": [
       "<Figure size 432x288 with 1 Axes>"
      ]
     },
     "metadata": {},
     "output_type": "display_data"
    }
   ],
   "source": [
    "plt.figure()\n",
    "\n",
    "t = []\n",
    "\n",
    "for i in range(0,1000):\n",
    "    t.append(i/100)\n",
    "\n",
    "\n",
    "sin = np.sin(t)\n",
    "\n",
    "plt.plot(t, sin)\n",
    "plt.xlabel(\"Time\")\n",
    "plt.ylabel(\"sin(1/4*pi*t)\")\n",
    "plt.title(\"Sinusoidal function\")\n",
    "plt.show()"
   ]
  },
  {
   "cell_type": "code",
   "execution_count": 189,
   "metadata": {},
   "outputs": [
    {
     "name": "stdout",
     "output_type": "stream",
     "text": [
      "0.9999996829318346\n",
      "-0.999997146387718\n",
      "[1 4 5 8 9]\n",
      "[0 3 3 7 7]\n"
     ]
    }
   ],
   "source": [
    "print(np.max(sin))\n",
    "print(np.min(sin))\n",
    "\n",
    "## Elementwise minimum and maximum\n",
    "arr1 = np.array([1, 3, 5, 7, 9])\n",
    "arr2 = np.array([0, 4, 3, 8, 7])\n",
    "print(np.maximum(arr1, arr2))\n",
    "print(np.minimum(arr1, arr2))"
   ]
  },
  {
   "cell_type": "code",
   "execution_count": 190,
   "metadata": {
    "scrolled": true
   },
   "outputs": [
    {
     "name": "stdout",
     "output_type": "stream",
     "text": [
      "0.08573429624387711\n",
      "0.34640056870987107\n",
      "0.7641063415848568\n"
     ]
    }
   ],
   "source": [
    "# Statistical summaries \n",
    "\n",
    "print(np.mean(randn))\n",
    "print(np.median(randn))\n",
    "print(np.std(randn))\n",
    "\n"
   ]
  },
  {
   "cell_type": "markdown",
   "metadata": {},
   "source": [
    "Create a 5 (channels) x 100 (samples) matrix of random integers between 0 and 543 and retrieve the following information:\n",
    "    - the max, min, mean of all samples.\n",
    "    - the mean and variance of each channel\n"
   ]
  },
  {
   "cell_type": "code",
   "execution_count": 199,
   "metadata": {},
   "outputs": [
    {
     "name": "stdout",
     "output_type": "stream",
     "text": [
      "max = 537.3827335278743\n",
      "min = 0.2930806643965487\n",
      "mean = 275.10632081678347\n",
      "max = 540.5858520560276\n",
      "min = 1.7640222723043961\n",
      "mean = 259.2227677542545\n",
      "max = 537.4338718773988\n",
      "min = 0.9507095118283482\n",
      "mean = 282.6983567563973\n",
      "max = 540.2937497375389\n",
      "min = 9.903977207303178\n",
      "mean = 292.3398967569455\n",
      "max = 534.1966480822811\n",
      "min = 5.075741043157501\n",
      "mean = 253.8372140388562\n",
      "mean = 251.60302476715992\n",
      "variance = 24891.708553889337\n",
      "mean = 262.26642382333705\n",
      "variance = 28350.640861481632\n",
      "mean = 269.069669786799\n",
      "variance = 33821.99921224346\n",
      "mean = 245.13495430356429\n",
      "variance = 35633.732142904635\n",
      "mean = 375.0842909577458\n",
      "variance = 38576.97777779388\n",
      "mean = 171.42830238390496\n",
      "variance = 8736.375104213901\n",
      "mean = 227.52135472916456\n",
      "variance = 37464.35306349037\n",
      "mean = 244.81386514873026\n",
      "variance = 34181.16326092814\n",
      "mean = 340.3706110307261\n",
      "variance = 6936.979178603622\n",
      "mean = 250.918462378868\n",
      "variance = 30689.613574095034\n",
      "mean = 326.3209839660913\n",
      "variance = 10645.036156150032\n",
      "mean = 373.42508318260076\n",
      "variance = 9721.988144722916\n",
      "mean = 428.984787678509\n",
      "variance = 8504.723248225762\n",
      "mean = 181.9811489120712\n",
      "variance = 4149.410201901857\n",
      "mean = 198.8950753134182\n",
      "variance = 10052.044337232433\n",
      "mean = 258.649875372316\n",
      "variance = 29851.235077214224\n",
      "mean = 251.04513617053098\n",
      "variance = 10410.918723528153\n",
      "mean = 274.2181328873779\n",
      "variance = 28848.636681118707\n",
      "mean = 268.17321504908375\n",
      "variance = 354.1547927377436\n",
      "mean = 57.03749585803972\n",
      "variance = 4323.680888160711\n",
      "mean = 431.55444564856197\n",
      "variance = 2216.5584249703656\n",
      "mean = 313.1328089656881\n",
      "variance = 7029.6627639276285\n",
      "mean = 281.92614257474014\n",
      "variance = 25721.019481414998\n",
      "mean = 258.18663106003703\n",
      "variance = 28465.770704266044\n",
      "mean = 155.36593818025506\n",
      "variance = 31556.478559359995\n",
      "mean = 278.46757007114434\n",
      "variance = 23568.155297573412\n",
      "mean = 307.85861259502406\n",
      "variance = 20587.95506364766\n",
      "mean = 208.80603691582078\n",
      "variance = 3056.360523339768\n",
      "mean = 364.3411228842817\n",
      "variance = 15254.150309778483\n",
      "mean = 184.96368302484018\n",
      "variance = 7803.499187560303\n",
      "mean = 218.6338068292946\n",
      "variance = 32754.909038532427\n",
      "mean = 301.2565201367573\n",
      "variance = 16357.90502681818\n",
      "mean = 343.00577034002015\n",
      "variance = 19398.15375151422\n",
      "mean = 223.27746846696004\n",
      "variance = 21314.666555041003\n",
      "mean = 285.1845738037581\n",
      "variance = 37085.79866324003\n",
      "mean = 360.4016681012751\n",
      "variance = 18996.09831978533\n",
      "mean = 201.73508804718247\n",
      "variance = 24499.95606740078\n",
      "mean = 297.3141218107754\n",
      "variance = 19161.707130568906\n",
      "mean = 261.2883235891537\n",
      "variance = 19763.257460842615\n",
      "mean = 285.0333418846637\n",
      "variance = 30626.735012018693\n",
      "mean = 295.69765498454024\n",
      "variance = 23006.969436066833\n",
      "mean = 369.95853685213524\n",
      "variance = 7359.001461596161\n",
      "mean = 186.1083345304341\n",
      "variance = 2455.882062578358\n",
      "mean = 328.1646163468786\n",
      "variance = 14761.362842250503\n",
      "mean = 281.7132414621458\n",
      "variance = 18020.264750457925\n",
      "mean = 270.8293487995477\n",
      "variance = 20160.506656248166\n",
      "mean = 444.709330620805\n",
      "variance = 6620.981152220351\n",
      "mean = 203.29455258185777\n",
      "variance = 26673.460451599094\n",
      "mean = 255.80128616022458\n",
      "variance = 17270.14650676232\n",
      "mean = 348.16960663867195\n",
      "variance = 10495.870646864492\n",
      "mean = 256.1571239893109\n",
      "variance = 40182.83848421263\n",
      "mean = 317.9081518994309\n",
      "variance = 31396.86082571494\n",
      "mean = 263.3321800399174\n",
      "variance = 22492.252908715796\n",
      "mean = 327.76152205955856\n",
      "variance = 17195.69078334669\n",
      "mean = 225.3447188139058\n",
      "variance = 43511.875025420726\n",
      "mean = 330.3241824894738\n",
      "variance = 24755.781019437185\n",
      "mean = 203.6685108634967\n",
      "variance = 11660.401562502775\n",
      "mean = 253.10953315833268\n",
      "variance = 26837.84619466967\n",
      "mean = 194.2438699074619\n",
      "variance = 14998.29852237011\n",
      "mean = 383.6033404897236\n",
      "variance = 9700.547610897396\n",
      "mean = 227.77153630270436\n",
      "variance = 1823.954557809217\n",
      "mean = 253.4089761720201\n",
      "variance = 13113.382789513033\n",
      "mean = 187.8690065317302\n",
      "variance = 34809.11282960023\n",
      "mean = 283.12533576780424\n",
      "variance = 29556.07340654787\n",
      "mean = 303.2319459241929\n",
      "variance = 46703.17827922468\n",
      "mean = 203.42903436443441\n",
      "variance = 26480.753142426733\n",
      "mean = 243.06448494201408\n",
      "variance = 16037.298595870549\n",
      "mean = 341.14315436966865\n",
      "variance = 17568.479837449133\n",
      "mean = 200.51694405128944\n",
      "variance = 25182.266057911933\n",
      "mean = 244.60713212765387\n",
      "variance = 23589.19183240544\n",
      "mean = 282.0226007928569\n",
      "variance = 9433.792841710248\n",
      "mean = 379.3309409868144\n",
      "variance = 12167.43759087208\n",
      "mean = 319.2420833714217\n",
      "variance = 19865.046782965273\n",
      "mean = 355.1514473540318\n",
      "variance = 35605.525739187106\n",
      "mean = 322.8173173724485\n",
      "variance = 9710.477329146413\n",
      "mean = 336.2374633801642\n",
      "variance = 30042.225498516094\n",
      "mean = 374.34382901507286\n",
      "variance = 31284.010011136765\n",
      "mean = 157.5901362236313\n",
      "variance = 15774.5790108009\n",
      "mean = 364.3541825086912\n",
      "variance = 25333.023788824183\n",
      "mean = 252.83883566200333\n",
      "variance = 22945.365658475534\n",
      "mean = 225.42119304417366\n",
      "variance = 19543.37939566099\n",
      "mean = 264.4114384943377\n",
      "variance = 43688.92294625649\n",
      "mean = 203.11044914770335\n",
      "variance = 21533.117818604125\n",
      "mean = 226.75309745851763\n",
      "variance = 12828.667169896724\n",
      "mean = 322.3702585627085\n",
      "variance = 10563.661697748006\n",
      "mean = 333.55318783129184\n",
      "variance = 19433.78490640818\n",
      "mean = 295.243513820519\n",
      "variance = 20157.047129776925\n",
      "mean = 181.20524672890784\n",
      "variance = 7877.217617121567\n",
      "mean = 219.14263692256654\n",
      "variance = 42419.90784047071\n",
      "mean = 252.3711524413202\n",
      "variance = 15850.95018853753\n",
      "mean = 165.3321821923798\n",
      "variance = 9322.332189339251\n",
      "mean = 231.86529961238483\n",
      "variance = 12457.660972834678\n",
      "mean = 236.28660711500805\n",
      "variance = 11760.314831405914\n",
      "mean = 291.63419998803784\n",
      "variance = 18746.308222420263\n",
      "mean = 220.807662120058\n",
      "variance = 15251.199879087944\n",
      "mean = 477.29608535762065\n",
      "variance = 5320.165753068866\n",
      "mean = 227.42176965226116\n",
      "variance = 21412.5350260084\n",
      "mean = 259.01806546978196\n",
      "variance = 21633.16778795822\n",
      "mean = 199.2617734582929\n",
      "variance = 19201.64042813617\n",
      "mean = 240.91370450809214\n",
      "variance = 25854.877364043532\n"
     ]
    }
   ],
   "source": [
    "#<------------INSERT CODE HERE------------>\n",
    "x = np.random.rand(5,100)*543\n",
    "\n",
    "for i in range(0,5):\n",
    "    print(\"max = {}\".format(np.max(x[i])))\n",
    "    print(\"min = {}\".format(np.min(x[i])))\n",
    "    print(\"mean = {}\".format(np.mean(x[i])))\n",
    "    \n",
    "\n",
    "for i in range(0,100):\n",
    "    print(\"mean = {}\".format(np.mean(x[:,i])))\n",
    "    print(\"variance = {}\".format(np.var(x[:,i])))\n"
   ]
  },
  {
   "cell_type": "markdown",
   "metadata": {},
   "source": [
    "Use the function hist() from matplotlib to show the histogram of values of the third channel."
   ]
  },
  {
   "cell_type": "code",
   "execution_count": 201,
   "metadata": {},
   "outputs": [
    {
     "data": {
      "text/plain": [
       "(array([10.,  5.,  6., 15., 13., 10., 11.,  9., 11., 10.]),\n",
       " array([  0.95070951,  54.59902575, 108.24734198, 161.89565822,\n",
       "        215.54397446, 269.19229069, 322.84060693, 376.48892317,\n",
       "        430.1372394 , 483.78555564, 537.43387188]),\n",
       " <a list of 10 Patch objects>)"
      ]
     },
     "execution_count": 201,
     "metadata": {},
     "output_type": "execute_result"
    },
    {
     "data": {
      "image/png": "[encoded data removed]",
      "text/plain": [
       "<Figure size 432x288 with 1 Axes>"
      ]
     },
     "metadata": {},
     "output_type": "display_data"
    }
   ],
   "source": [
    "#<------------INSERT CODE HERE------------>\n",
    "plt.hist(x[2])"
   ]
  }
 ],
 "metadata": {
  "kernelspec": {
   "display_name": "Python 3",
   "language": "python",
   "name": "python3"
  },
  "language_info": {
   "codemirror_mode": {
    "name": "ipython",
    "version": 3
   },
   "file_extension": ".py",
   "mimetype": "text/x-python",
   "name": "python",
   "nbconvert_exporter": "python",
   "pygments_lexer": "ipython3",
   "version": "3.6.5"
  }
 },
 "nbformat": 4,
 "nbformat_minor": 2
}
