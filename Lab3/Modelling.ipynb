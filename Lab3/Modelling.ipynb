{
 "cells": [
  {
   "cell_type": "code",
   "execution_count": 17,
   "metadata": {},
   "outputs": [
    {
     "name": "stdout",
     "output_type": "stream",
     "text": [
      "importing\n"
     ]
    }
   ],
   "source": [
    "print(\"importing\")\n",
    "import pandas as pd\n",
    "import numpy as np\n",
    "from sklearn import tree\n",
    "from sklearn.preprocessing import OneHotEncoder\n",
    "from sklearn.metrics import confusion_matrix\n",
    "from matplotlib import pyplot as plt\n",
    "\n",
    "\n",
    "\n"
   ]
  },
  {
   "cell_type": "code",
   "execution_count": 8,
   "metadata": {},
   "outputs": [
    {
     "name": "stdout",
     "output_type": "stream",
     "text": [
      "reading file\n",
      "(41188, 21)\n",
      "seperating true values into X and y\n",
      "one hot encode\n",
      "(41188,)\n",
      "(41188, 2141)\n"
     ]
    }
   ],
   "source": [
    "print(\"reading file\")\n",
    "X = pd.read_csv(\"bank-additional-full.csv\", delimiter=\";\") \n",
    "\n",
    "\n",
    "print(X.shape)\n",
    "print(\"seperating true values into X and y\")\n",
    "y = X.pop(\"y\").values\n",
    "print(\"one hot encode\")\n",
    "\n",
    "enc = OneHotEncoder()\n",
    "enc.fit(X)\n",
    "X = enc.transform(X).toarray()\n",
    "print(y.shape)\n",
    "print(X.shape)\n",
    "\n"
   ]
  },
  {
   "cell_type": "code",
   "execution_count": 9,
   "metadata": {},
   "outputs": [
    {
     "name": "stdout",
     "output_type": "stream",
     "text": [
      "train test\n",
      "(500, 2141)\n",
      "(500,)\n",
      "(40688, 2141)\n",
      "(40688,)\n"
     ]
    }
   ],
   "source": [
    "print(\"train test\")\n",
    "X_test = X[-500:]\n",
    "y_test = y[-500:]\n",
    "\n",
    "X_train = X[:-500]\n",
    "y_train = y[:-500]\n",
    "\n",
    "print(X_test.shape)\n",
    "print(y_test.shape)\n",
    "print(X_train.shape)\n",
    "print(y_train.shape)\n"
   ]
  },
  {
   "cell_type": "code",
   "execution_count": 11,
   "metadata": {
    "scrolled": false
   },
   "outputs": [
    {
     "name": "stdout",
     "output_type": "stream",
     "text": [
      "creating DTC\n",
      "fitting\n",
      "done fitting\n"
     ]
    }
   ],
   "source": [
    "\n",
    "\n",
    "print(\"creating DTC\")\n",
    "clf = tree.DecisionTreeClassifier(max_depth=5, max_leaf_nodes=50, min_samples_leaf=7, min_samples_split=2, min_weight_fraction_leaf=0.0)\n",
    "\n",
    "print(\"fitting\")\n",
    "clf.fit(X_train, y_train)\n",
    "print(\"done fitting\")"
   ]
  },
  {
   "cell_type": "code",
   "execution_count": 28,
   "metadata": {},
   "outputs": [
    {
     "name": "stdout",
     "output_type": "stream",
     "text": [
      "Average accuracy: 88.98848598161555 %\n"
     ]
    }
   ],
   "source": [
    "from sklearn.model_selection import KFold, cross_val_score\n",
    "#k_fold = KFold(n_splits=10)\n",
    "#for train_indices, test_indices in k_fold.split(X_train):\n",
    "#    print('Train: %s | test: %s' % (train_indices, test_indices))\n",
    "#    clf.fit(X_train[train_indices], y_train[train_indices])\n",
    "#    print('Fold test accuracy: {} %'.format(clf.score(X_train[test_indices], y_train[test_indices])*100))\n",
    "#print('Average accuracy: {} %'.format(np.mean(score)*100))\n",
    "\n",
    "\n",
    "\n",
    "score = cross_val_score(clf, X_train, y_train, cv=k_fold, n_jobs=10)\n",
    "print('Average accuracy: {} %'.format(np.mean(score)*100))"
   ]
  },
  {
   "cell_type": "code",
   "execution_count": 34,
   "metadata": {},
   "outputs": [
    {
     "name": "stdout",
     "output_type": "stream",
     "text": [
      "[0. 0. 0. ... 0. 0. 0.]\n"
     ]
    }
   ],
   "source": [
    "importances = clf.feature_importances_\n",
    "print(importances)"
   ]
  },
  {
   "cell_type": "code",
   "execution_count": 19,
   "metadata": {},
   "outputs": [],
   "source": [
    "from sklearn.metrics import confusion_matrix\n",
    "import itertools\n",
    "\n",
    "def plot_confusion_matrix(cm, classes,\n",
    "                          normalize=False,\n",
    "                          title='Confusion matrix',\n",
    "                          cmap=plt.cm.Blues):\n",
    "    \"\"\"\n",
    "    This function prints and plots the confusion matrix.\n",
    "    Normalization can be applied by setting `normalize=True`.\n",
    "    \"\"\"\n",
    "    plt.imshow(cm, interpolation='nearest', cmap=cmap)\n",
    "    plt.title(title)\n",
    "    plt.colorbar()\n",
    "    tick_marks = np.arange(len(classes))\n",
    "    plt.xticks(tick_marks, classes, rotation=45)\n",
    "    plt.yticks(tick_marks, classes)\n",
    "\n",
    "    if normalize:\n",
    "        cm = cm.astype('float') / cm.sum(axis=1)[:, np.newaxis]\n",
    "        print(\"Normalized confusion matrix\")\n",
    "    else:\n",
    "        print('Confusion matrix, without normalization')\n",
    "\n",
    "    thresh = cm.max() / 2.\n",
    "    for i, j in itertools.product(range(cm.shape[0]), range(cm.shape[1])):\n",
    "        t = \"(%.2f)\"%(cm[i, j])\n",
    "        #print t\n",
    "#         plt.text(j, i, t,\n",
    "#                  horizontalalignment=\"center\",\n",
    "#                  color=\"white\" if cm[i, j] > thresh else \"black\")\n",
    "\n",
    "    plt.tight_layout()\n",
    "    plt.ylabel('True label')\n",
    "    plt.xlabel('Predicted label')"
   ]
  },
  {
   "cell_type": "code",
   "execution_count": 21,
   "metadata": {},
   "outputs": [
    {
     "name": "stdout",
     "output_type": "stream",
     "text": [
      "confusion matrix\n",
      "Confusion matrix, without normalization\n",
      "[[227  34]\n",
      " [136 103]]\n"
     ]
    },
    {
     "data": {
      "image/png": "[encoded data removed]",
      "text/plain": [
       "<Figure size 432x288 with 2 Axes>"
      ]
     },
     "metadata": {
      "needs_background": "light"
     },
     "output_type": "display_data"
    }
   ],
   "source": [
    "print(\"confusion matrix\")\n",
    "# Compute confusion matrix\n",
    "y_pred = clf.predict(X_test)\n",
    "cnf_matrix = confusion_matrix(y_test, y_pred)\n",
    "np.set_printoptions(precision=2)\n",
    "\n",
    "# Plot non-normalized confusion matrix\n",
    "plt.figure()\n",
    "plot_confusion_matrix(cnf_matrix, classes=range(len(set(y_pred))), normalize = False,\n",
    "                      title='Confusion matrix')\n",
    "\n",
    "\n",
    "\n",
    "print(cnf_matrix)\n"
   ]
  }
 ],
 "metadata": {
  "kernelspec": {
   "display_name": "Python 3",
   "language": "python",
   "name": "python3"
  },
  "language_info": {
   "codemirror_mode": {
    "name": "ipython",
    "version": 3
   },
   "file_extension": ".py",
   "mimetype": "text/x-python",
   "name": "python",
   "nbconvert_exporter": "python",
   "pygments_lexer": "ipython3",
   "version": "3.6.7"
  }
 },
 "nbformat": 4,
 "nbformat_minor": 2
}
